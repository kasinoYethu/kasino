{
 "cells": [
  {
   "cell_type": "code",
   "execution_count": 1,
   "metadata": {},
   "outputs": [],
   "source": [
    "import random\n",
    "\n",
    "class Card:\n",
    "  \n",
    "    suitnames = [\"clubs\", \"diamonds\", \"hearts\", \"spades\"]\n",
    "    ranknames = [\"2\", \"3\", \"4\", \"5\", \"6\", \"7\", \"8\", \"9\", \"10\", \"jack\", \"queen\", \"king\", \"ace\"]\n",
    "    \n",
    "    def __init__(self, rank, suit, is_local = True):\n",
    "        self.rank = rank\n",
    "        self.suit = suit \n",
    "        self.is_local = is_local\n",
    "        self.point = self.determine_points()\n",
    "    \n",
    "    def __str__(self):\n",
    "        \n",
    "        if self.is_local:\n",
    "            ranks = Card.ranknames.copy()\n",
    "            ranks = ranks[:9]\n",
    "            \n",
    "            #ranks list looks like this after executing slicing above \n",
    "            #[\"2\", \"3\", \"4\", \"5\", \"6\", \"7\", \"8\", \"9\", \"10\"]\n",
    "            \n",
    "            ranks.insert(0, Card.ranknames[-1])\n",
    "            \n",
    "            #ranks list looks like this after execution\n",
    "            #[\"ace\", \"2\", \"3\", \"4\", \"5\", \"6\", \"7\", \"8\", \"9\",\n",
    "            \n",
    "            return '{} of {}'.format(ranks[self.rank - 1], Card.suitnames[self.suit])\n",
    "        \n",
    "        return '{} of {}'.format(Card.ranknames[self.rank - 2], Card.suitnames[self.suit])\n",
    "    \n",
    "    def __add__(self, other):\n",
    "        return self.rank + other.rank\n",
    "        \n",
    "    def __gt__(self, other):\n",
    "        return self.rank > other.rank\n",
    "    \n",
    "        \n",
    "    #This function assaigns each card a point value starting from the first one in the list 'rank'\\n\",\n",
    "    def determine_points(self):\n",
    "        \n",
    "        if self.rank == rank[0]:\n",
    "            self.rank = rank[0]\n",
    "            self.point = 20\n",
    "            return point\n",
    "        \n",
    "        if self.rank == rank[1]:\n",
    "            self.rank = rank[1]\n",
    "            self.point = 3\n",
    "            return point\n",
    "        \n",
    "        if self.rank == rank[2]:\n",
    "            self.rank = rank[2]\n",
    "            self.point = 4\n",
    "            return point\n",
    "        \n",
    "        if self.rank == rank[3]:\n",
    "            self.rank = rank[3]\n",
    "            self.point = 5\n",
    "            return point\n",
    "        \n",
    "        if self.rank == rank[4]:\n",
    "            self.rank = rank[4]\n",
    "            self.point = 6\n",
    "            return point\n",
    "        \n",
    "        if self.rank == rank[5]:\n",
    "            self.rank = rank[5]\n",
    "            self.point = 14\n",
    "            return point\n",
    "        \n",
    "        if self.rank == rank[6]:\n",
    "            self.rank = rank[6]\n",
    "            self.point = 40\n",
    "            return point\n",
    "            \n",
    "        if self.rank == rank[7]:\n",
    "            self.rank = rank[7]\n",
    "            self.point = 9\n",
    "            return point\n",
    "            \n",
    "        if self.rank == rank[8]:\n",
    "            self.rank = rank[8]\n",
    "            self.point = 10\n",
    "            return point\n",
    "            \n",
    "        elif self.rank == rank[8] and self.suit == suit[2]:\n",
    "            self.point = 100\n",
    "            return point\n",
    "        \n",
    "        elif self.rank == rank[9]:\n",
    "            self.rank = rank[9]\n",
    "            self.point = 11\n",
    "            return point\n",
    "            \n",
    "        elif self.rank == rank[10]:\n",
    "            self.rank = rank[10]\n",
    "            self.point = 11\n",
    "            return point\n",
    "            \n",
    "        elif self.rank == rank[11]:\n",
    "            self.rank = rank[11]\n",
    "            self.point = 11\n",
    "            return point\n",
    "    \n",
    "        if self.rank == rank[12]:\n",
    "            self.rank = rank[12]\n",
    "            self.point = 11\n",
    "            return point\n",
    "        return None\n"
   ]
  },
  {
   "cell_type": "code",
   "execution_count": 2,
   "metadata": {},
   "outputs": [
    {
     "ename": "NameError",
     "evalue": "name 'Hand' is not defined",
     "output_type": "error",
     "traceback": [
      "\u001b[1;31m---------------------------------------------------------------------------\u001b[0m",
      "\u001b[1;31mNameError\u001b[0m                                 Traceback (most recent call last)",
      "\u001b[1;32m<ipython-input-2-3d2eb0a1adf3>\u001b[0m in \u001b[0;36m<module>\u001b[1;34m()\u001b[0m\n\u001b[0;32m      1\u001b[0m \u001b[1;31m#if u set is_local variabl\u001b[0m\u001b[1;33m\u001b[0m\u001b[1;33m\u001b[0m\u001b[0m\n\u001b[0;32m      2\u001b[0m \u001b[1;33m\u001b[0m\u001b[0m\n\u001b[1;32m----> 3\u001b[1;33m \u001b[0mhand\u001b[0m \u001b[1;33m=\u001b[0m \u001b[0mHand\u001b[0m\u001b[1;33m(\u001b[0m\u001b[1;34m\"4_cards\"\u001b[0m\u001b[1;33m,\u001b[0m \u001b[1;36m2\u001b[0m\u001b[1;33m)\u001b[0m\u001b[1;33m\u001b[0m\u001b[0m\n\u001b[0m\u001b[0;32m      4\u001b[0m \u001b[0mhand\u001b[0m\u001b[1;33m.\u001b[0m\u001b[0mplay\u001b[0m\u001b[1;33m(\u001b[0m\u001b[0mhand\u001b[0m\u001b[1;33m.\u001b[0m\u001b[0mplayer1_cards\u001b[0m\u001b[1;33m)\u001b[0m\u001b[1;33m\u001b[0m\u001b[0m\n",
      "\u001b[1;31mNameError\u001b[0m: name 'Hand' is not defined"
     ]
    }
   ],
   "source": [
    "#if u set is_local variabl\n",
    "\n",
    "hand = Hand(\"4_cards\", 2)\n",
    "hand.play(hand.player1_cards)"
   ]
  },
  {
   "cell_type": "code",
   "execution_count": 1,
   "metadata": {},
   "outputs": [
    {
     "ename": "NameError",
     "evalue": "name 'hand' is not defined",
     "output_type": "error",
     "traceback": [
      "\u001b[1;31m---------------------------------------------------------------------------\u001b[0m",
      "\u001b[1;31mNameError\u001b[0m                                 Traceback (most recent call last)",
      "\u001b[1;32m<ipython-input-1-b3bbd4ceffb9>\u001b[0m in \u001b[0;36m<module>\u001b[1;34m()\u001b[0m\n\u001b[1;32m----> 1\u001b[1;33m \u001b[0mhand\u001b[0m\u001b[1;33m.\u001b[0m\u001b[0mplay\u001b[0m\u001b[1;33m(\u001b[0m\u001b[0mhand\u001b[0m\u001b[1;33m.\u001b[0m\u001b[0mplayer2_cards\u001b[0m\u001b[1;33m)\u001b[0m\u001b[1;33m\u001b[0m\u001b[0m\n\u001b[0m",
      "\u001b[1;31mNameError\u001b[0m: name 'hand' is not defined"
     ]
    }
   ],
   "source": [
    "hand.play(hand.player2_cards)"
   ]
  },
  {
   "cell_type": "code",
   "execution_count": 196,
   "metadata": {},
   "outputs": [
    {
     "data": {
      "text/plain": [
       "0"
      ]
     },
     "execution_count": 196,
     "metadata": {},
     "output_type": "execute_result"
    }
   ],
   "source": [
    "len(player1_winning_cards)"
   ]
  },
  {
   "cell_type": "code",
   "execution_count": 1,
   "metadata": {},
   "outputs": [
    {
     "name": "stdout",
     "output_type": "stream",
     "text": [
      "True\n"
     ]
    }
   ],
   "source": [
    "suit_prefixes = ['s', 'd', 'c', 'h']\n",
    "print('c' in suit_prefixes)"
   ]
  },
  {
   "cell_type": "code",
   "execution_count": null,
   "metadata": {},
   "outputs": [],
   "source": []
  }
 ],
 "metadata": {
  "kernelspec": {
   "display_name": "Python 3",
   "language": "python",
   "name": "python3"
  },
  "language_info": {
   "codemirror_mode": {
    "name": "ipython",
    "version": 3
   },
   "file_extension": ".py",
   "mimetype": "text/x-python",
   "name": "python",
   "nbconvert_exporter": "python",
   "pygments_lexer": "ipython3",
   "version": "3.6.5"
  }
 },
 "nbformat": 4,
 "nbformat_minor": 2
}

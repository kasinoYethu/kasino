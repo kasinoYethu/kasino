class Card:
          
    suitnames = ["clubs", "diamonds", "hearts", "spades"]
    ranknames = ["2", "3", "4", "5", "6", "7", "8", "9", "10", "jack", "queen", "king", "ace"]
        
    def __init__(self, rank, suit, contains_jz = True):
        self.rank = rank
        self.suit = suit
        self.contains_jz = contains_jz  
        self.point = self.determine_points()
        
    def __str__(self):
        
        if self.contains_jz:
            #copy the actual contents avoiding changing the original list    
            ranks = Card.ranknames.copy()
            
            #slice the numeric values leaving J, Q, K out
            ranks = ranks[-1] + ranks[:9]
            
            return '{} of {}'.format(ranks[self.rank - 1], Card.suitnames[self.suit])
        
        return '{} of {}'.format(Card.ranknames[self.rank - 2], Card.suitnames[self.suit])
    
    def __add__(self,other):
        return self.rank + other.rank
        #here the function is adding all the points from all the cards in the player's hand\n",
    
    def add_point(self,other):
         return self.point + other.point
        
    def __gt__(self, other):
            return self.rank > other.rank
        
    #This function assaigns each card a point value starting from the first one in the list 'rank'\n",
    def determine_points(self):
        
        if self.rank == rank[0]:
            self.rank = rank[0]
            self.point = 20
            return point
        
        if self.rank == rank[1]:
            self.rank = rank[1]
            self.point = 3
            return point
        
        if self.rank == rank[2]:
            self.rank = rank[2]
            self.point = 4
            return point
        
        if self.rank == rank[3]:
            self.rank = rank[3]
            self.point = 5
            return point
        
        if self.rank == rank[4]:
            self.rank = rank[4]
            self.point = 6
            return point
        
        if self.rank == rank[5]:
            self.rank = rank[5]
            self.point = 14
            return point
        
        if self.rank == rank[6]:
            self.rank = rank[6]
            self.point = 40
            return point
            
        if self.rank == rank[7]:
            self.rank = rank[7]
            self.point = 9
            return point
            
        if self.rank == rank[8]:
            self.rank = rank[8]
            self.point = 10
            return point
            
        elif self.rank == rank[8] and self.suit == suit[2]:
            self.point = 100
            return point
        
        elif self.rank == rank[9]:
            self.rank = rank[9]
            self.point = 11
            return point
            
        elif self.rank == rank[10]:
            self.rank = rank[10]
            self.point = 11
            return point
            
        elif self.rank == rank[11]:
            self.rank = rank[11]
            self.point = 11
            return point
    
        if self.rank == rank[12]:
            self.rank = rank[12]
            self.point = 11
            return point
        return None
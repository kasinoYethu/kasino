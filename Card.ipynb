{
 "cells": [
  {
   "cell_type": "code",
   "execution_count": 10,
   "metadata": {},
   "outputs": [],
   "source": [
    "import random\n",
    "\n",
    "class Card:\n",
    "  \n",
    "    suitnames = [\"clubs\", \"diamonds\", \"hearts\", \"spades\"]\n",
    "    ranknames = [\"2\", \"3\", \"4\", \"5\", \"6\", \"7\", \"8\", \"9\", \"10\", \"jack\", \"queen\", \"king\", \"ace\"]\n",
    "    \n",
    "    def __init__(self, rank, suit, is_local = True):\n",
    "        self.rank = rank\n",
    "        self.suit = suit \n",
    "        self.is_local = is_local\n",
    "    \n",
    "    def __str__(self):\n",
    "        \n",
    "        if self.is_local:\n",
    "            ranks = Card.ranknames.copy()\n",
    "            ranks = ranks[:9]\n",
    "            \n",
    "            #ranks list looks like this after executing slicing above \n",
    "            #[\"2\", \"3\", \"4\", \"5\", \"6\", \"7\", \"8\", \"9\", \"10\"]\n",
    "            \n",
    "            ranks.insert(0, Card.ranknames[-1])\n",
    "            \n",
    "            #ranks list looks like this after execution\n",
    "            #[\"ace\", \"2\", \"3\", \"4\", \"5\", \"6\", \"7\", \"8\", \"9\",\n",
    "            \n",
    "            return ranks[self.rank - 1] + ' of ' + Card.suitnames[self.suit]\n",
    "        \n",
    "        return Card.ranknames[self.rank - 2] + ' of ' + Card.suitnames[self.suit]\n",
    "    \n",
    "    def __add__(self, other):\n",
    "        return self.rank + other.rank\n",
    "        \n",
    "    def __gt__(self, other):\n",
    "        return self.rank > other.rank\n",
    "    \n"
   ]
  },
  {
   "cell_type": "code",
   "execution_count": 12,
   "metadata": {},
   "outputs": [
    {
     "name": "stdout",
     "output_type": "stream",
     "text": [
      "Instructions on how to play the game\n",
      "Use card number to select your card i.e\n",
      "Card number = 0, Ace of Spade. Enter 0\n",
      "\n",
      "\n",
      "Player cards...............\n",
      "Card number =0 8 of spades\n",
      "Card number =1 10 of hearts\n",
      "Card number =2 9 of clubs\n",
      "Card number =3 6 of spades\n",
      "\n",
      "Faced card(s)\n",
      "4 of hearts\n",
      "What do you want to do? Grab/Build/Play down? Enter g for Grab, b for Build, d for Play down: b\n",
      "Select the card to use for your building6\n",
      "True\n",
      "False\n",
      "8 of spades\n",
      "10 of hearts\n",
      "9 of clubs\n",
      "6 of spades\n"
     ]
    },
    {
     "data": {
      "text/plain": [
       "[]"
      ]
     },
     "execution_count": 12,
     "metadata": {},
     "output_type": "execute_result"
    }
   ],
   "source": [
    "#if u set is_local variabl\n",
    "\n",
    "hand = Hand(\"4_cards\", 2)\n",
    "hand.play(hand.player1_cards)"
   ]
  },
  {
   "cell_type": "code",
   "execution_count": 1,
   "metadata": {},
   "outputs": [
    {
     "ename": "NameError",
     "evalue": "name 'hand' is not defined",
     "output_type": "error",
     "traceback": [
      "\u001b[1;31m---------------------------------------------------------------------------\u001b[0m",
      "\u001b[1;31mNameError\u001b[0m                                 Traceback (most recent call last)",
      "\u001b[1;32m<ipython-input-1-b3bbd4ceffb9>\u001b[0m in \u001b[0;36m<module>\u001b[1;34m()\u001b[0m\n\u001b[1;32m----> 1\u001b[1;33m \u001b[0mhand\u001b[0m\u001b[1;33m.\u001b[0m\u001b[0mplay\u001b[0m\u001b[1;33m(\u001b[0m\u001b[0mhand\u001b[0m\u001b[1;33m.\u001b[0m\u001b[0mplayer2_cards\u001b[0m\u001b[1;33m)\u001b[0m\u001b[1;33m\u001b[0m\u001b[0m\n\u001b[0m",
      "\u001b[1;31mNameError\u001b[0m: name 'hand' is not defined"
     ]
    }
   ],
   "source": [
    "hand.play(hand.player2_cards)"
   ]
  },
  {
   "cell_type": "code",
   "execution_count": 196,
   "metadata": {},
   "outputs": [
    {
     "data": {
      "text/plain": [
       "0"
      ]
     },
     "execution_count": 196,
     "metadata": {},
     "output_type": "execute_result"
    }
   ],
   "source": [
    "len(player1_winning_cards)"
   ]
  },
  {
   "cell_type": "code",
   "execution_count": 1,
   "metadata": {},
   "outputs": [
    {
     "name": "stdout",
     "output_type": "stream",
     "text": [
      "True\n"
     ]
    }
   ],
   "source": [
    "suit_prefixes = ['s', 'd', 'c', 'h']\n",
    "print('c' in suit_prefixes)"
   ]
  },
  {
   "cell_type": "code",
   "execution_count": null,
   "metadata": {},
   "outputs": [],
   "source": []
  }
 ],
 "metadata": {
  "kernelspec": {
   "display_name": "Python 3",
   "language": "python",
   "name": "python3"
  },
  "language_info": {
   "codemirror_mode": {
    "name": "ipython",
    "version": 3
   },
   "file_extension": ".py",
   "mimetype": "text/x-python",
   "name": "python",
   "nbconvert_exporter": "python",
   "pygments_lexer": "ipython3",
   "version": "3.6.5"
  }
 },
 "nbformat": 4,
 "nbformat_minor": 2
}

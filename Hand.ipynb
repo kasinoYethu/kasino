{
 "cells": [
  {
   "cell_type": "code",
   "execution_count": 10,
   "metadata": {},
   "outputs": [],
   "source": [
    "import random\n",
    "\n",
    "    \n",
    "class Hand:\n",
    "    # later on we will add donkey and the other indiginous games\n",
    "    gamenames = [\"4_cards\", \"10_cards\", \"kasino\", \"crazy_8\", \"top_10\"]\n",
    "    \n",
    "    #players for local games\n",
    "    players = [\"2\", \"3\", \"4\"]\n",
    "    \n",
    "    #list of default messages that will be used through the application\n",
    "    defaultmsgs = [\"I am building: \", \"I grab the faced card: \", \"I grab the faced cards: \", \"I play down: \"] \n",
    "    errormsgs = [\"The card you select must be from your list/enter e to replay\"]\n",
    "    \n",
    "    def __init__(self, game_name, no_of_players):\n",
    "        #display how to play the game to the user\n",
    "        print('Instructions on how to play the game')\n",
    "        print('Use card number to select your card i.e')\n",
    "        print('Card number = 0, Ace of Spade. Enter 0')\n",
    "        print('\\n')\n",
    "        \n",
    "        self.faced_cards = []\n",
    "        self.player1_cards = []\n",
    "        self.player2_cards = []\n",
    "        self.pile = self.select_game(game_name, no_of_players)\n",
    "        self.players_count = 0\n",
    "    \n",
    "    def __repr__(self):\n",
    "        if self.players_count == 1:\n",
    "            return (', ').join([str(card) for card in self.player1_cards])\n",
    "        else:\n",
    "            return (', ').join([str(card) for card in self.player2_cards])\n",
    "    \n",
    "    \n",
    "    def play(self, player_cards):\n",
    "        wining_cards = []\n",
    "            \n",
    "        #we are allowed to have a list of diff/like cards on the board\n",
    "        if len(self.pile) == 32:\n",
    "            self.faced_cards.append(self.pile.pop())\n",
    "        \n",
    "        rank = 0\n",
    "        if len(self.pile) > 0:\n",
    "            \n",
    "            print('Player cards...............')\n",
    "            for i, card in enumerate(player_cards):\n",
    "                print('Card number =' + str(i), card)\n",
    "                \n",
    "            print()\n",
    "            print('Faced card(s)')\n",
    "            for i, card in enumerate(self.faced_cards):\n",
    "                print(card)\n",
    "                \n",
    "            option = input('What do you want to do? Grab/Build/Play down? Enter g for Grab, b for Build, d for Play down: ')\n",
    "            #this will be used to create a player's building\n",
    "            if option.lower() == 'g':\n",
    "                 \n",
    "                #we use index to select the card\n",
    "                index = int(input(Hand.defaultmsgs[1] + str(self.faced_cards[0].rank) + ' with : '))    \n",
    "                if index != player_cards[index]:\n",
    "                    print('The card is not on your list of cards')\n",
    "                    option = input('What do you want to do? Grab/Build/Play down? Enter g for Grab, b for Build, d for Play down: ')\n",
    "                        \n",
    "                for i, card in enumerate(self.faced_cards):\n",
    "                    if index == i:\n",
    "                        #if one of the players cards has the same rank as \n",
    "                        #faced card he/she needs to add to his/her winning cards list\n",
    "                        #both cards\n",
    "                        wining_cards.append(card)\n",
    "                        wining_cards.append(player_cards[index])\n",
    "                        \n",
    "                        #remove the card from the player cards\n",
    "                        player_cards.remove(index)\n",
    "                               \n",
    "                        #remove the card from the board\n",
    "                        faced_cards.remove(index)\n",
    "                    \n",
    "                        #replace players card with \n",
    "                        player_cards.append(self.pile.pop())\n",
    "                        \n",
    "                \n",
    "            if option.lower() == 'b':\n",
    "                \n",
    "                rank = int(input('Select the card to use for your building'))\n",
    "                print(rank + self.faced_cards[0].rank <= 10)\n",
    "                if rank + self.faced_cards[0].rank <= 10:\n",
    "                     \n",
    "                    #we check if the building is allowed\n",
    "                    building = rank + self.faced_cards[0].rank\n",
    "                    print(building in player_cards)\n",
    "                    if building in player_cards:\n",
    "                        print(Hand.defaultmsgs[0] + building + ' by '+ rank)\n",
    "                \n",
    "            if option.lower() == 'd':\n",
    "                \n",
    "                rank = int(input(Hand.defaultmsgs[3]))        \n",
    "        else:\n",
    "            #determine a winner\n",
    "            pass \n",
    "        \n",
    "        for card in player_cards:\n",
    "            print(card)\n",
    "        \n",
    "        for card in wining_cards:\n",
    "            print(card)\n",
    "            \n",
    "        return wining_cards\n",
    "    \n",
    "    def is_building_allowed(self, faced_card, player_cards):\n",
    "            \n",
    "        for key, value in self.cards_count(player_cards).items(): \n",
    "            \n",
    "            #faced card can be used to create the building\n",
    "            #only one to ten buildings are allowed to be created\n",
    "            possible_buildings = faced_card.rank + key\n",
    "            #a player can build a building that can be taken by\n",
    "            #either players\n",
    "            #check for a one match\n",
    "            if possible_buildings <= 10:\n",
    "                for card in players: \n",
    "                    if card.rank == possible_buildings:\n",
    "                        return True\n",
    "        return False\n",
    "    \n",
    "    #we wanna re use the logic in this method\n",
    "    def cards_count(self, player_cards):\n",
    "        \n",
    "        counts = {}\n",
    "        for card in player_cards: \n",
    "            \n",
    "            if not card.rank in counts:\n",
    "                counts[card.rank] = 0\n",
    "            \n",
    "            counts[card.rank] += 1\n",
    "        \n",
    "        return counts\n",
    "            \n",
    "    \n",
    "    def select_game(self, game_name, no_of_players):\n",
    "        \n",
    "        deck = []\n",
    "        #players = [\"2\", \"3\", \"4\"]\n",
    "        #need to shuffle the right list of cards based on the number of selected players\n",
    "        if str(no_of_players) in Hand.players:\n",
    "            \n",
    "            deck = [Card(r, s, True) for r in range(10) for s in range(4)]\n",
    "        else:\n",
    "            deck = [Card(r, s, False) for r in range(13) for s in range(4)]\n",
    "            \n",
    "        random.shuffle(deck)\n",
    "         \n",
    "        if len(deck) <= 40 :\n",
    "            \n",
    "            #check the selected game\n",
    "            #4 cards\n",
    "            if game_name == Hand.gamenames[0]:\n",
    "                for i in range(8):\n",
    "                    if i % 2 == 0:\n",
    "                        self.player1_cards.append(deck.pop())\n",
    "                    else:\n",
    "                        self.player2_cards.append(deck.pop())\n",
    "            \n",
    "            #ten cards\n",
    "            if game_name == Hand.gamenames[1]:\n",
    "                for i in range(20):\n",
    "                    if i % 2 == 0:\n",
    "                        self.player1_cards.append(deck.pop())\n",
    "                    else:\n",
    "                        self.player2_cards.append(deck.pop())\n",
    "                      \n",
    "            #kasino\n",
    "            if game_name == Hand.gamenames[2]:\n",
    "                    #this time the number of cards is between players is equal to the number deck before the cards served\n",
    "                return deck \n",
    "                \n",
    "        return deck"
   ]
  },
  {
   "cell_type": "code",
   "execution_count": 12,
   "metadata": {},
   "outputs": [
    {
     "name": "stdout",
     "output_type": "stream",
     "text": [
      "Instructions on how to play the game\n",
      "Use card number to select your card i.e\n",
      "Card number = 0, Ace of Spade. Enter 0\n",
      "\n",
      "\n",
      "Player cards...............\n",
      "Card number =0 8 of spades\n",
      "Card number =1 10 of hearts\n",
      "Card number =2 9 of clubs\n",
      "Card number =3 6 of spades\n",
      "\n",
      "Faced card(s)\n",
      "4 of hearts\n",
      "What do you want to do? Grab/Build/Play down? Enter g for Grab, b for Build, d for Play down: b\n",
      "Select the card to use for your building6\n",
      "True\n",
      "False\n",
      "8 of spades\n",
      "10 of hearts\n",
      "9 of clubs\n",
      "6 of spades\n"
     ]
    },
    {
     "data": {
      "text/plain": [
       "[]"
      ]
     },
     "execution_count": 12,
     "metadata": {},
     "output_type": "execute_result"
    }
   ],
   "source": [
    "#if u set is_local variabl\n",
    "\n",
    "hand = Hand(\"4_cards\", 2)\n",
    "hand.play(hand.player1_cards)"
   ]
  },
  {
   "cell_type": "code",
   "execution_count": 1,
   "metadata": {},
   "outputs": [
    {
     "ename": "NameError",
     "evalue": "name 'hand' is not defined",
     "output_type": "error",
     "traceback": [
      "\u001b[1;31m---------------------------------------------------------------------------\u001b[0m",
      "\u001b[1;31mNameError\u001b[0m                                 Traceback (most recent call last)",
      "\u001b[1;32m<ipython-input-1-b3bbd4ceffb9>\u001b[0m in \u001b[0;36m<module>\u001b[1;34m()\u001b[0m\n\u001b[1;32m----> 1\u001b[1;33m \u001b[0mhand\u001b[0m\u001b[1;33m.\u001b[0m\u001b[0mplay\u001b[0m\u001b[1;33m(\u001b[0m\u001b[0mhand\u001b[0m\u001b[1;33m.\u001b[0m\u001b[0mplayer2_cards\u001b[0m\u001b[1;33m)\u001b[0m\u001b[1;33m\u001b[0m\u001b[0m\n\u001b[0m",
      "\u001b[1;31mNameError\u001b[0m: name 'hand' is not defined"
     ]
    }
   ],
   "source": [
    "hand.play(hand.player2_cards)"
   ]
  },
  {
   "cell_type": "code",
   "execution_count": 196,
   "metadata": {},
   "outputs": [
    {
     "data": {
      "text/plain": [
       "0"
      ]
     },
     "execution_count": 196,
     "metadata": {},
     "output_type": "execute_result"
    }
   ],
   "source": [
    "len(player1_winning_cards)"
   ]
  },
  {
   "cell_type": "code",
   "execution_count": 1,
   "metadata": {},
   "outputs": [
    {
     "name": "stdout",
     "output_type": "stream",
     "text": [
      "True\n"
     ]
    }
   ],
   "source": [
    "suit_prefixes = ['s', 'd', 'c', 'h']\n",
    "print('c' in suit_prefixes)"
   ]
  },
  {
   "cell_type": "code",
   "execution_count": null,
   "metadata": {},
   "outputs": [],
   "source": []
  }
 ],
 "metadata": {
  "kernelspec": {
   "display_name": "Python 3",
   "language": "python",
   "name": "python3"
  },
  "language_info": {
   "codemirror_mode": {
    "name": "ipython",
    "version": 3
   },
   "file_extension": ".py",
   "mimetype": "text/x-python",
   "name": "python",
   "nbconvert_exporter": "python",
   "pygments_lexer": "ipython3",
   "version": "3.6.5"
  }
 },
 "nbformat": 4,
 "nbformat_minor": 2
}

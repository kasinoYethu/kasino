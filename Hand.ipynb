class Hand:

    # later on we will add donkey and the other indiginous games
    gamenames = ["4_cards", "10_cards", "kasino", "crazy_8", "top_10"]
    
    #list of default messages that will be used through the application
    defaultmsgs = ["I am building: ", "I grab the faced card: ", "I grab the faced cards: ", "I play down: "]
    errormsgs = ["The card you select must be from your list/enter e to replay"]
        
    #players for local games\n",
    players = ["2", "3", "4"]
        
    def __init__(self, game_name, no_of_players):
            
        #this the method that is going to be invoked once when the object is created
        self.select_game(game_name, no_of_players)
        self.cards = []
        self.player1_cards = []
        self.player2_cards = []
                   
    def __str__(self):
        return (', ').join([str(card) for card in self.cards])
        
    def __bool__(self):
        return bool(self.cards)
        
    def passs(self, other,card):
        self.remove(card)
        other.add(card)
            
    def add_card(self, card):
        self.cards.append(card)
            
    def remove_card(self, card):
        self.cards.remove(card)
            
    def deal(self, card):
        self.cards.append(card)   
   
    def player1_turn():

        Play_is_valid = False
        print ("Your hand: {}".format(hand_player1))
        cardplay = input("Type a card you want to play in the form 'rank of suit' from your hand or type 'take' to take card from pile")
    
    def move(cardplay):
             
        if cardplay in hand_player1:
            if cardplay.suit == up_card.suit or cardplay.rank == up_card.rank:
                Play_is_valid = True
                deck.append(cardplay)
                nw_list.remove(cardplay)
                         
        elif cardplay == 'take':
         
            player1_turn()
            print(str(hand_player2))
            print(str(len(deck)))
    
  
    def play(self, player_cards):
        wining_cards = []
        print('Player cards...............')
        for card in player_cards:
            print(card)
                
        print('|')
        print('Faced card(s)')
                
        #we are allowed to have a list of diff/like cards on the board
        self.faced_cards.append(self.pile.pop())
        for card in self.faced_cards:
            print(card)
            
        rank = 0
        if len(self.pile) > 0:
            option = input('What do you want to do? Grab/Build/Play down? Enter g for Grab, b for Build, d for Play down: ')
                
            #this will be used to create a player's building
            if option.lower() == 'g':
                    
                if len(self.faced_cards) == 1:
                        
                    rank = int(input(Hand.defaultmsgs[1] + str(self.faced_cards[0].rank) + ' with: '))
                        
                    #the selected does match the card displayed
                    if rank != self.faced_cards[0].rank:
                        print('The card rank entered does not match the card on the board!')
                        rank = int(input(Hand.defaultmsgs[1] + str(self.faced_cards[0].rank) + ' with: '))
                           
                    print(rank == self.faced_cards[0].rank and rank in player_cards)
                    if rank == self.faced_cards[0].rank and rank in player_cards:
                        #if one of the players cards has the same rank as
                        #faced card he/she needs to add to his/her winning cards list
                        #both cards
                        wining_cards.append(card)
                        wining_cards.append(faced_card)
                        
                        #replace players card with
                        player_cards.append(self.pile.pop())
                        #display new player cards after we replaced it with the top card from remaing cards
                        print('Players cards after he/she has played')
                        for card in player_cards:
                            print(card)
                            
                        print('Players cards that are going to be used determine the winer')
                        for card in wining_cards:
                            print(card)
                    
                if option.lower() == 'b':
                    
                    rank = int(input('Select the card to use for your building'))
                    print(rank + self.faced_cards[0].rank <= 10)
                    if rank + self.faced_cards[0].rank <= 10:
                        
                        #we check if the building is allowed
                        building = rank + self.faced_cards[0].rank
                        print(building in player_cards)
                        if building in player_cards:
                            print(Hand.defaultmsgs[0] + building + ' by '+ rank)
                    
                if option.lower() == 'd':
                    
                    rank = int(input(Hand.defaultmsgs[3])) 
            else:
                #determine a winner
                pass 
            
            print(len(player_cards))
            print(len(wining_cards))
            return wining_cards
    
    def is_building_allowed(self, faced_card, player_cards):
                
        for key, value in self.cards_count(player_cards).items():
                
            #faced card can be used to create the building\n",
            #only one to ten buildings are allowed to be created\n",
            possible_buildings = faced_card.rank + key
            #a player can build a building that can be taken by\n",
            #either players\n",
            #check for a one match
            if possible_buildings <= 10:
                for card in players:
                    if card.rank == possible_buildings:
                        return True
        return False
        
    #we wanna re use the logic in this method
    def cards_count(self, player_cards):
        
        counts = {}
        for card in player_cards:
                
            if not card.rank in counts:
                counts[card.rank] = 0
            
            counts[card.rank] += 1
            
        return counts
                         
    def select_game(self, game_name, no_of_players):
        
        deck = []
        if game_name in Hand.players:
            deck = [Card(r, s, True) for r in range(10) for r in range(4)]
        else:
            deck = [Card(r, s, False) for r in range(13) for r in range(4)]
            
        #check the game name and give the players the right cards
        if game_name == game_names[0]:
            for i in range(8):
                if i % 2 == 0:
                    self.player1_cards.append(deck.pop())
                else:
                    self.player2_cards.append(deck.pop())
            return deck
                        
        if self.game_name == game_names[1]:
            for i in range(20):
                if i % 2 == 0:
                    self.player1_cards.append(deck.pop())
                else:
                    self.player2_cards.append(deck.pop())
            return deck
            
        if self.game_name == game_names[2]:
            for i in range(40):
                if i % 2 == 0:
                    self.player1_cards.append(deck.pop())
                else:
                    self.player2_cards.append(deck.pop())
            return deck
                             
        return None
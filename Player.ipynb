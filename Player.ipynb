{
 "cells": [
  {
   "cell_type": "code",
   "execution_count": null,
   "metadata": {},
   "outputs": [],
   "source": [
    "class Player:\n",
    "    \n",
    "    # later on we will add donkey and the other indiginous games\n",
    "    gamenames = [\"4 cards\", \"10 cards\", \"kasino\", \"top 10\", \"crazy 8\"]\n",
    "    \n",
    "    #players for local games\n",
    "    players = [\"2\", \"3\", \"4\"]\n",
    "    \n",
    "    def __init__(self, game_name, no_of_players):\n",
    "        self.game_name = game_name\n",
    "        self.no_of_players = no_of_players\n",
    "        \n",
    "    def __str__(self):        \n",
    "        return 'You selected {} for {} Players'.format(game_name, no_of_players)"
   ]
  }
 ],
 "metadata": {
  "kernelspec": {
   "display_name": "Python 3",
   "language": "python",
   "name": "python3"
  },
  "language_info": {
   "codemirror_mode": {
    "name": "ipython",
    "version": 3
   },
   "file_extension": ".py",
   "mimetype": "text/x-python",
   "name": "python",
   "nbconvert_exporter": "python",
   "pygments_lexer": "ipython3",
   "version": "3.6.5"
  }
 },
 "nbformat": 4,
 "nbformat_minor": 2
}
